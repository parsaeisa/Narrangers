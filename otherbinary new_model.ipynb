{
 "cells": [
  {
   "cell_type": "code",
   "execution_count": 1,
   "metadata": {},
   "outputs": [
    {
     "data": {
      "text/html": [
       "<div>\n",
       "<style scoped>\n",
       "    .dataframe tbody tr th:only-of-type {\n",
       "        vertical-align: middle;\n",
       "    }\n",
       "\n",
       "    .dataframe tbody tr th {\n",
       "        vertical-align: top;\n",
       "    }\n",
       "\n",
       "    .dataframe thead th {\n",
       "        text-align: right;\n",
       "    }\n",
       "</style>\n",
       "<table border=\"1\" class=\"dataframe\">\n",
       "  <thead>\n",
       "    <tr style=\"text-align: right;\">\n",
       "      <th></th>\n",
       "      <th>Document_ID</th>\n",
       "      <th>High_Level_Narratives_List</th>\n",
       "      <th>Sub_Narratives_List</th>\n",
       "    </tr>\n",
       "  </thead>\n",
       "  <tbody>\n",
       "    <tr>\n",
       "      <th>0</th>\n",
       "      <td>EN_CC_100000.txt</td>\n",
       "      <td>[CC: Hidden plots by secret schemes of powerfu...</td>\n",
       "      <td>[CC: Controversy about green technologies: Oth...</td>\n",
       "    </tr>\n",
       "    <tr>\n",
       "      <th>1</th>\n",
       "      <td>EN_CC_100002.txt</td>\n",
       "      <td>[CC: Hidden plots by secret schemes of powerfu...</td>\n",
       "      <td>[CC: Criticism of institutions and authorities...</td>\n",
       "    </tr>\n",
       "    <tr>\n",
       "      <th>2</th>\n",
       "      <td>EN_CC_100003.txt</td>\n",
       "      <td>[CC: Criticism of climate movement, CC: Critic...</td>\n",
       "      <td>[CC: Criticism of climate movement: Ad hominem...</td>\n",
       "    </tr>\n",
       "    <tr>\n",
       "      <th>3</th>\n",
       "      <td>EN_CC_100004.txt</td>\n",
       "      <td>[CC: Criticism of climate movement, CC: Critic...</td>\n",
       "      <td>[CC: Criticism of climate movement: Climate mo...</td>\n",
       "    </tr>\n",
       "    <tr>\n",
       "      <th>4</th>\n",
       "      <td>EN_CC_100005.txt</td>\n",
       "      <td>[CC: Criticism of climate movement]</td>\n",
       "      <td>[CC: Criticism of climate movement: Climate mo...</td>\n",
       "    </tr>\n",
       "    <tr>\n",
       "      <th>...</th>\n",
       "      <td>...</td>\n",
       "      <td>...</td>\n",
       "      <td>...</td>\n",
       "    </tr>\n",
       "    <tr>\n",
       "      <th>394</th>\n",
       "      <td>EN_UA_DEV_100028.txt</td>\n",
       "      <td>[URW: Negative Consequences for the West]</td>\n",
       "      <td>[URW: Negative Consequences for the West: Othe...</td>\n",
       "    </tr>\n",
       "    <tr>\n",
       "      <th>395</th>\n",
       "      <td>EN_UA_DEV_216.txt</td>\n",
       "      <td>[URW: Negative Consequences for the West, URW:...</td>\n",
       "      <td>[URW: Discrediting the West, Diplomacy: The EU...</td>\n",
       "    </tr>\n",
       "    <tr>\n",
       "      <th>396</th>\n",
       "      <td>EN_UA_DEV_23.txt</td>\n",
       "      <td>[URW: Amplifying war-related fears, URW: Distr...</td>\n",
       "      <td>[URW: Amplifying war-related fears: By continu...</td>\n",
       "    </tr>\n",
       "    <tr>\n",
       "      <th>397</th>\n",
       "      <td>EN_UA_DEV_24.txt</td>\n",
       "      <td>[URW: Negative Consequences for the West, URW:...</td>\n",
       "      <td>[URW: Discrediting the West, Diplomacy: Diplom...</td>\n",
       "    </tr>\n",
       "    <tr>\n",
       "      <th>398</th>\n",
       "      <td>EN_UA_DEV_26.txt</td>\n",
       "      <td>[URW: Russia is the Victim]</td>\n",
       "      <td>[URW: Russia is the Victim: Other]</td>\n",
       "    </tr>\n",
       "  </tbody>\n",
       "</table>\n",
       "<p>399 rows × 3 columns</p>\n",
       "</div>"
      ],
      "text/plain": [
       "              Document_ID                         High_Level_Narratives_List  \\\n",
       "0        EN_CC_100000.txt  [CC: Hidden plots by secret schemes of powerfu...   \n",
       "1        EN_CC_100002.txt  [CC: Hidden plots by secret schemes of powerfu...   \n",
       "2        EN_CC_100003.txt  [CC: Criticism of climate movement, CC: Critic...   \n",
       "3        EN_CC_100004.txt  [CC: Criticism of climate movement, CC: Critic...   \n",
       "4        EN_CC_100005.txt                [CC: Criticism of climate movement]   \n",
       "..                    ...                                                ...   \n",
       "394  EN_UA_DEV_100028.txt          [URW: Negative Consequences for the West]   \n",
       "395     EN_UA_DEV_216.txt  [URW: Negative Consequences for the West, URW:...   \n",
       "396      EN_UA_DEV_23.txt  [URW: Amplifying war-related fears, URW: Distr...   \n",
       "397      EN_UA_DEV_24.txt  [URW: Negative Consequences for the West, URW:...   \n",
       "398      EN_UA_DEV_26.txt                        [URW: Russia is the Victim]   \n",
       "\n",
       "                                   Sub_Narratives_List  \n",
       "0    [CC: Controversy about green technologies: Oth...  \n",
       "1    [CC: Criticism of institutions and authorities...  \n",
       "2    [CC: Criticism of climate movement: Ad hominem...  \n",
       "3    [CC: Criticism of climate movement: Climate mo...  \n",
       "4    [CC: Criticism of climate movement: Climate mo...  \n",
       "..                                                 ...  \n",
       "394  [URW: Negative Consequences for the West: Othe...  \n",
       "395  [URW: Discrediting the West, Diplomacy: The EU...  \n",
       "396  [URW: Amplifying war-related fears: By continu...  \n",
       "397  [URW: Discrediting the West, Diplomacy: Diplom...  \n",
       "398                 [URW: Russia is the Victim: Other]  \n",
       "\n",
       "[399 rows x 3 columns]"
      ]
     },
     "execution_count": 1,
     "metadata": {},
     "output_type": "execute_result"
    }
   ],
   "source": [
    "import pandas as pd\n",
    "import matplotlib.pyplot as plt\n",
    "import torch\n",
    "\n",
    "file_path = 'data\\EN\\subtask-2-annotations.txt'\n",
    "df = pd.read_csv(file_path, sep=\"\\t\", header=None, names=[\"Document_ID\", \"High_Level_Narratives\", \"Sub_Narratives\"])\n",
    "\n",
    "df = df.groupby(\"Document_ID\").agg({\n",
    "    \"High_Level_Narratives\": lambda x: list(set(\";\".join(x).split(\";\"))),\n",
    "    \"Sub_Narratives\": lambda x: list(set(\";\".join(x).split(\";\")))\n",
    "}).reset_index()\n",
    "\n",
    "df.rename(columns={\n",
    "    \"High_Level_Narratives\": \"High_Level_Narratives_List\",\n",
    "    \"Sub_Narratives\": \"Sub_Narratives_List\"\n",
    "}, inplace=True)\n",
    "\n",
    "df"
   ]
  },
  {
   "cell_type": "code",
   "execution_count": 2,
   "metadata": {},
   "outputs": [
    {
     "data": {
      "text/plain": [
       "Binary_Label\n",
       "1    230\n",
       "0    169\n",
       "dtype: int64"
      ]
     },
     "execution_count": 2,
     "metadata": {},
     "output_type": "execute_result"
    }
   ],
   "source": [
    "# Add a Binary Classification Column\n",
    "def classify_binary(narratives):\n",
    "    if any(narrative.startswith(('URW', 'CC')) for narrative in narratives):\n",
    "        return 1  # Non-Other\n",
    "    return 0  # Other\n",
    "\n",
    "# Apply the classification to High_Level_Narratives_List\n",
    "df['Binary_Label'] = df['High_Level_Narratives_List'].apply(classify_binary)\n",
    "\n",
    "# Display the updated DataFrame\n",
    "df.value_counts('Binary_Label')\n"
   ]
  },
  {
   "cell_type": "code",
   "execution_count": 3,
   "metadata": {},
   "outputs": [
    {
     "data": {
      "text/html": [
       "<div>\n",
       "<style scoped>\n",
       "    .dataframe tbody tr th:only-of-type {\n",
       "        vertical-align: middle;\n",
       "    }\n",
       "\n",
       "    .dataframe tbody tr th {\n",
       "        vertical-align: top;\n",
       "    }\n",
       "\n",
       "    .dataframe thead th {\n",
       "        text-align: right;\n",
       "    }\n",
       "</style>\n",
       "<table border=\"1\" class=\"dataframe\">\n",
       "  <thead>\n",
       "    <tr style=\"text-align: right;\">\n",
       "      <th></th>\n",
       "      <th>Document_ID</th>\n",
       "      <th>High_Level_Narratives_List</th>\n",
       "      <th>Sub_Narratives_List</th>\n",
       "      <th>Binary_Label</th>\n",
       "    </tr>\n",
       "  </thead>\n",
       "  <tbody>\n",
       "    <tr>\n",
       "      <th>0</th>\n",
       "      <td>EN_CC_100000.txt</td>\n",
       "      <td>[CC: Hidden plots by secret schemes of powerfu...</td>\n",
       "      <td>[CC: Controversy about green technologies: Oth...</td>\n",
       "      <td>1</td>\n",
       "    </tr>\n",
       "    <tr>\n",
       "      <th>1</th>\n",
       "      <td>EN_CC_100002.txt</td>\n",
       "      <td>[CC: Hidden plots by secret schemes of powerfu...</td>\n",
       "      <td>[CC: Criticism of institutions and authorities...</td>\n",
       "      <td>1</td>\n",
       "    </tr>\n",
       "    <tr>\n",
       "      <th>2</th>\n",
       "      <td>EN_CC_100003.txt</td>\n",
       "      <td>[CC: Criticism of climate movement, CC: Critic...</td>\n",
       "      <td>[CC: Criticism of climate movement: Ad hominem...</td>\n",
       "      <td>1</td>\n",
       "    </tr>\n",
       "    <tr>\n",
       "      <th>3</th>\n",
       "      <td>EN_CC_100004.txt</td>\n",
       "      <td>[CC: Criticism of climate movement, CC: Critic...</td>\n",
       "      <td>[CC: Criticism of climate movement: Climate mo...</td>\n",
       "      <td>1</td>\n",
       "    </tr>\n",
       "    <tr>\n",
       "      <th>4</th>\n",
       "      <td>EN_CC_100005.txt</td>\n",
       "      <td>[CC: Criticism of climate movement]</td>\n",
       "      <td>[CC: Criticism of climate movement: Climate mo...</td>\n",
       "      <td>1</td>\n",
       "    </tr>\n",
       "  </tbody>\n",
       "</table>\n",
       "</div>"
      ],
      "text/plain": [
       "        Document_ID                         High_Level_Narratives_List  \\\n",
       "0  EN_CC_100000.txt  [CC: Hidden plots by secret schemes of powerfu...   \n",
       "1  EN_CC_100002.txt  [CC: Hidden plots by secret schemes of powerfu...   \n",
       "2  EN_CC_100003.txt  [CC: Criticism of climate movement, CC: Critic...   \n",
       "3  EN_CC_100004.txt  [CC: Criticism of climate movement, CC: Critic...   \n",
       "4  EN_CC_100005.txt                [CC: Criticism of climate movement]   \n",
       "\n",
       "                                 Sub_Narratives_List  Binary_Label  \n",
       "0  [CC: Controversy about green technologies: Oth...             1  \n",
       "1  [CC: Criticism of institutions and authorities...             1  \n",
       "2  [CC: Criticism of climate movement: Ad hominem...             1  \n",
       "3  [CC: Criticism of climate movement: Climate mo...             1  \n",
       "4  [CC: Criticism of climate movement: Climate mo...             1  "
      ]
     },
     "execution_count": 3,
     "metadata": {},
     "output_type": "execute_result"
    }
   ],
   "source": [
    "df.head()"
   ]
  },
  {
   "cell_type": "code",
   "execution_count": 4,
   "metadata": {},
   "outputs": [
    {
     "name": "stdout",
     "output_type": "stream",
     "text": [
      "Number of missing documents: 0\n"
     ]
    },
    {
     "data": {
      "text/html": [
       "<div>\n",
       "<style scoped>\n",
       "    .dataframe tbody tr th:only-of-type {\n",
       "        vertical-align: middle;\n",
       "    }\n",
       "\n",
       "    .dataframe tbody tr th {\n",
       "        vertical-align: top;\n",
       "    }\n",
       "\n",
       "    .dataframe thead th {\n",
       "        text-align: right;\n",
       "    }\n",
       "</style>\n",
       "<table border=\"1\" class=\"dataframe\">\n",
       "  <thead>\n",
       "    <tr style=\"text-align: right;\">\n",
       "      <th></th>\n",
       "      <th>Document_ID</th>\n",
       "      <th>High_Level_Narratives_List</th>\n",
       "      <th>Sub_Narratives_List</th>\n",
       "      <th>Binary_Label</th>\n",
       "      <th>Text</th>\n",
       "    </tr>\n",
       "  </thead>\n",
       "  <tbody>\n",
       "    <tr>\n",
       "      <th>0</th>\n",
       "      <td>EN_CC_100000.txt</td>\n",
       "      <td>[CC: Hidden plots by secret schemes of powerfu...</td>\n",
       "      <td>[CC: Controversy about green technologies: Oth...</td>\n",
       "      <td>1</td>\n",
       "      <td>Pentagon plans to serve LAB-GROWN MEAT to troo...</td>\n",
       "    </tr>\n",
       "    <tr>\n",
       "      <th>1</th>\n",
       "      <td>EN_CC_100002.txt</td>\n",
       "      <td>[CC: Hidden plots by secret schemes of powerfu...</td>\n",
       "      <td>[CC: Criticism of institutions and authorities...</td>\n",
       "      <td>1</td>\n",
       "      <td>Oxford Residents Mount Resistance Against the ...</td>\n",
       "    </tr>\n",
       "    <tr>\n",
       "      <th>2</th>\n",
       "      <td>EN_CC_100003.txt</td>\n",
       "      <td>[CC: Criticism of climate movement, CC: Critic...</td>\n",
       "      <td>[CC: Criticism of climate movement: Ad hominem...</td>\n",
       "      <td>1</td>\n",
       "      <td>Fonda Heads To Canada For Oil Sands Protest, M...</td>\n",
       "    </tr>\n",
       "    <tr>\n",
       "      <th>3</th>\n",
       "      <td>EN_CC_100004.txt</td>\n",
       "      <td>[CC: Criticism of climate movement, CC: Critic...</td>\n",
       "      <td>[CC: Criticism of climate movement: Climate mo...</td>\n",
       "      <td>1</td>\n",
       "      <td>A Tesla Owner Just Exposed A Sick Secret About...</td>\n",
       "    </tr>\n",
       "    <tr>\n",
       "      <th>4</th>\n",
       "      <td>EN_CC_100005.txt</td>\n",
       "      <td>[CC: Criticism of climate movement]</td>\n",
       "      <td>[CC: Criticism of climate movement: Climate mo...</td>\n",
       "      <td>1</td>\n",
       "      <td>Climate Crazies Fail in Attempt to Vandalize A...</td>\n",
       "    </tr>\n",
       "  </tbody>\n",
       "</table>\n",
       "</div>"
      ],
      "text/plain": [
       "        Document_ID                         High_Level_Narratives_List  \\\n",
       "0  EN_CC_100000.txt  [CC: Hidden plots by secret schemes of powerfu...   \n",
       "1  EN_CC_100002.txt  [CC: Hidden plots by secret schemes of powerfu...   \n",
       "2  EN_CC_100003.txt  [CC: Criticism of climate movement, CC: Critic...   \n",
       "3  EN_CC_100004.txt  [CC: Criticism of climate movement, CC: Critic...   \n",
       "4  EN_CC_100005.txt                [CC: Criticism of climate movement]   \n",
       "\n",
       "                                 Sub_Narratives_List  Binary_Label  \\\n",
       "0  [CC: Controversy about green technologies: Oth...             1   \n",
       "1  [CC: Criticism of institutions and authorities...             1   \n",
       "2  [CC: Criticism of climate movement: Ad hominem...             1   \n",
       "3  [CC: Criticism of climate movement: Climate mo...             1   \n",
       "4  [CC: Criticism of climate movement: Climate mo...             1   \n",
       "\n",
       "                                                Text  \n",
       "0  Pentagon plans to serve LAB-GROWN MEAT to troo...  \n",
       "1  Oxford Residents Mount Resistance Against the ...  \n",
       "2  Fonda Heads To Canada For Oil Sands Protest, M...  \n",
       "3  A Tesla Owner Just Exposed A Sick Secret About...  \n",
       "4  Climate Crazies Fail in Attempt to Vandalize A...  "
      ]
     },
     "execution_count": 4,
     "metadata": {},
     "output_type": "execute_result"
    }
   ],
   "source": [
    "import os\n",
    "\n",
    "# Path to the raw-documents folder\n",
    "documents_folder = r'data\\EN\\raw-documents'\n",
    "\n",
    "# Function to read all document texts and map to their IDs\n",
    "def load_documents(folder_path):\n",
    "    documents = {}\n",
    "    for filename in os.listdir(folder_path):\n",
    "        if filename.endswith(\".txt\"):  # Ensure only text files are read\n",
    "            doc_id = filename  # Extract Document_ID from filename\n",
    "            with open(os.path.join(folder_path, filename), 'r', encoding='utf-8') as file:\n",
    "                documents[doc_id] = file.read().strip()\n",
    "    return documents\n",
    "\n",
    "# Load document texts into a dictionary\n",
    "document_texts = load_documents(documents_folder)\n",
    "\n",
    "# Map document texts to the DataFrame\n",
    "df['Text'] = df['Document_ID'].map(document_texts)\n",
    "\n",
    "# Check if all documents are successfully mapped\n",
    "print(f\"Number of missing documents: {df['Text'].isnull().sum()}\")\n",
    "df.head()\n"
   ]
  },
  {
   "cell_type": "code",
   "execution_count": 5,
   "metadata": {},
   "outputs": [],
   "source": [
    "from sklearn.metrics import accuracy_score, precision_recall_fscore_support\n",
    "def compute_metrics(eval_pred):\n",
    "    logits, labels = eval_pred\n",
    "    predictions = logits.argmax(axis=-1)  # Get predicted class\n",
    "    precision, recall, f1, _ = precision_recall_fscore_support(labels, predictions, average=\"binary\")\n",
    "    accuracy = accuracy_score(labels, predictions)\n",
    "    return {\n",
    "        \"accuracy\": accuracy,\n",
    "        \"precision\": precision,\n",
    "        \"recall\": recall,\n",
    "        \"f1\": f1,\n",
    "    }\n",
    "    \n",
    "    \n",
    "\n"
   ]
  },
  {
   "cell_type": "code",
   "execution_count": 8,
   "metadata": {},
   "outputs": [
    {
     "name": "stderr",
     "output_type": "stream",
     "text": [
      "Some weights of BertForSequenceClassification were not initialized from the model checkpoint at dima806/news-category-classifier-distilbert and are newly initialized because the shapes did not match:\n",
      "- classifier.bias: found shape torch.Size([42]) in the checkpoint and torch.Size([2]) in the model instantiated\n",
      "- classifier.weight: found shape torch.Size([42, 768]) in the checkpoint and torch.Size([2, 768]) in the model instantiated\n",
      "You should probably TRAIN this model on a down-stream task to be able to use it for predictions and inference.\n"
     ]
    }
   ],
   "source": [
    "from transformers import AutoTokenizer, AutoModelForSequenceClassification\n",
    "from datasets import Dataset\n",
    "MODEL_NAME = \"dima806/news-category-classifier-distilbert\"\n",
    "tokenizer = AutoTokenizer.from_pretrained(MODEL_NAME)\n",
    "# Load the model with ignore_mismatched_sizes=True\n",
    "model = AutoModelForSequenceClassification.from_pretrained(\n",
    "    MODEL_NAME,\n",
    "    num_labels=2,  # Set to the desired number of labels\n",
    "    ignore_mismatched_sizes=True  # Ignore size mismatches for the classifier layer\n",
    ")"
   ]
  },
  {
   "cell_type": "code",
   "execution_count": 9,
   "metadata": {},
   "outputs": [
    {
     "data": {
      "application/vnd.jupyter.widget-view+json": {
       "model_id": "72f06f266a2c47e8902e2c7181673267",
       "version_major": 2,
       "version_minor": 0
      },
      "text/plain": [
       "Map:   0%|          | 0/399 [00:00<?, ? examples/s]"
      ]
     },
     "metadata": {},
     "output_type": "display_data"
    },
    {
     "name": "stdout",
     "output_type": "stream",
     "text": [
      "Dataset({\n",
      "    features: ['Text', 'Binary_Label', 'input_ids', 'token_type_ids', 'attention_mask'],\n",
      "    num_rows: 399\n",
      "})\n"
     ]
    }
   ],
   "source": [
    "\n",
    "\n",
    "# Convert DataFrame to Hugging Face Dataset\n",
    "# Ensure your DataFrame has 'Text' and 'Binary_Label' columns\n",
    "hf_dataset = Dataset.from_pandas(df[['Text', 'Binary_Label']])\n",
    "\n",
    "def tokenize_function(examples):\n",
    "    return tokenizer(\n",
    "        examples['Text'],\n",
    "        padding=\"max_length\",  # Ensures consistent padding\n",
    "        truncation=True,       # Truncate sequences longer than max_length\n",
    "        max_length=512  # Explicitly set max_length\n",
    "    )\n",
    "\n",
    "tokenized_datasets = hf_dataset.map(tokenize_function, batched=True)\n",
    "\n",
    "# Inspect tokenized datasets\n",
    "print(tokenized_datasets)\n",
    "\n"
   ]
  },
  {
   "cell_type": "code",
   "execution_count": 10,
   "metadata": {},
   "outputs": [],
   "source": [
    "from sklearn.model_selection import train_test_split\n",
    "\n",
    "# Split into train and test sets\n",
    "train_test_split = tokenized_datasets.train_test_split(test_size=0.2, seed=42)\n",
    "train_dataset = train_test_split['train']\n",
    "test_dataset = train_test_split['test']\n"
   ]
  },
  {
   "cell_type": "code",
   "execution_count": 11,
   "metadata": {},
   "outputs": [
    {
     "name": "stdout",
     "output_type": "stream",
     "text": [
      "Number of training examples: 319\n",
      "Number of testing examples: 80\n"
     ]
    }
   ],
   "source": [
    "print(f\"Number of training examples: {len(train_dataset)}\")\n",
    "print(f\"Number of testing examples: {len(test_dataset)}\")"
   ]
  },
  {
   "cell_type": "code",
   "execution_count": 12,
   "metadata": {},
   "outputs": [
    {
     "name": "stdout",
     "output_type": "stream",
     "text": [
      "Class weights: tensor([1.1805, 0.8674])\n"
     ]
    }
   ],
   "source": [
    "from sklearn.utils.class_weight import compute_class_weight\n",
    "import numpy as np\n",
    "import torch\n",
    "\n",
    "# Assuming your labels are in a column called 'Binary_Label' in a DataFrame\n",
    "class_labels = df['Binary_Label'].values\n",
    "class_weights = compute_class_weight(\n",
    "    class_weight='balanced', \n",
    "    classes=np.unique(class_labels), \n",
    "    y=class_labels\n",
    ")\n",
    "\n",
    "# Convert to a PyTorch tensor\n",
    "class_weights = torch.tensor(class_weights, dtype=torch.float)\n",
    "print(\"Class weights:\", class_weights)\n"
   ]
  },
  {
   "cell_type": "code",
   "execution_count": 13,
   "metadata": {},
   "outputs": [],
   "source": [
    "from torch.nn import CrossEntropyLoss\n",
    "\n",
    "# Update the forward pass to include weighted loss\n",
    "class WeightedRobertaModel(torch.nn.Module):\n",
    "    def __init__(self, model, class_weights):\n",
    "        super(WeightedRobertaModel, self).__init__()\n",
    "        self.model = model\n",
    "        self.class_weights = class_weights\n",
    "        self.loss_fn = CrossEntropyLoss(weight=self.class_weights)\n",
    "\n",
    "    def forward(self, input_ids, attention_mask, labels=None):\n",
    "        outputs = self.model(input_ids=input_ids, attention_mask=attention_mask)\n",
    "        logits = outputs.logits\n",
    "        loss = None\n",
    "        if labels is not None:\n",
    "            loss = self.loss_fn(logits, labels)\n",
    "        return {\"loss\": loss, \"logits\": logits} if labels is not None else {\"logits\": logits}\n"
   ]
  },
  {
   "cell_type": "code",
   "execution_count": 14,
   "metadata": {},
   "outputs": [],
   "source": [
    "# weighted_model = WeightedRobertaModel(model, class_weights)\n"
   ]
  },
  {
   "cell_type": "code",
   "execution_count": 15,
   "metadata": {},
   "outputs": [
    {
     "name": "stderr",
     "output_type": "stream",
     "text": [
      "c:\\Users\\makan\\AppData\\Local\\Programs\\Python\\Python311\\Lib\\site-packages\\transformers\\training_args.py:1575: FutureWarning: `evaluation_strategy` is deprecated and will be removed in version 4.46 of 🤗 Transformers. Use `eval_strategy` instead\n",
      "  warnings.warn(\n"
     ]
    }
   ],
   "source": [
    "# from transformers import TrainingArguments\n",
    "\n",
    "# training_args = TrainingArguments(\n",
    "#     output_dir=\"./results\",  # Directory to save results\n",
    "#     evaluation_strategy=\"epoch\",  # Evaluate at the end of each epoch\n",
    "#     save_strategy=\"epoch\",  # Save at the end of each epoch\n",
    "#     learning_rate=1e-5,  # Fine-tuning learning rate\n",
    "#     per_device_train_batch_size=12,  # Batch size per GPU\n",
    "#     per_device_eval_batch_size=16,\n",
    "#     num_train_epochs=10,  # Number of epochs\n",
    "#     # weight_decay=0.01,  # L2 regularization\n",
    "#     logging_dir=\"./logs\",  # Directory for logs\n",
    "#     logging_steps=10,\n",
    "#     load_best_model_at_end=True  # Load the best model after training\n",
    "# )\n",
    "\n",
    "\n",
    "\n",
    "from transformers import TrainingArguments\n",
    "\n",
    "training_args = TrainingArguments(\n",
    "    output_dir='./results',                    # Directory to store checkpoints and final model\n",
    "    num_train_epochs=10,                       # Total number of training epochs\n",
    "    learning_rate=1e-5,  # Fine-tuning learning rate\n",
    "    per_device_train_batch_size=10,            # Batch size per device during training\n",
    "    per_device_eval_batch_size=10,             # Batch size for evaluation\n",
    "    evaluation_strategy='epoch',               # Evaluate at the end of each epoch\n",
    "    save_strategy='epoch',                     # Save model at the end of each epoch\n",
    "    load_best_model_at_end=True,               # Load the best model at the end of training\n",
    "    metric_for_best_model='f1',                # Use F1 score to evaluate the best model\n",
    "    greater_is_better=True,                    # Higher F1 is better\n",
    "    logging_dir='./logs',                      # Directory for storing logs\n",
    "    logging_steps=100,                         # Log every 100 steps\n",
    "    save_total_limit=3,                        # Limit the total amount of checkpoints\n",
    "    seed=42,                                   # Seed for reproducibility\n",
    ")\n",
    "\n"
   ]
  },
  {
   "cell_type": "code",
   "execution_count": 16,
   "metadata": {},
   "outputs": [
    {
     "data": {
      "text/plain": [
       "Dataset({\n",
       "    features: ['Text', 'labels', 'input_ids', 'token_type_ids', 'attention_mask'],\n",
       "    num_rows: 80\n",
       "})"
      ]
     },
     "execution_count": 16,
     "metadata": {},
     "output_type": "execute_result"
    }
   ],
   "source": [
    "# Rename the Binary_Label column to labels\n",
    "train_dataset = train_dataset.rename_column(\"Binary_Label\", \"labels\")\n",
    "test_dataset = test_dataset.rename_column(\"Binary_Label\", \"labels\")\n",
    "test_dataset\n"
   ]
  },
  {
   "cell_type": "code",
   "execution_count": 17,
   "metadata": {},
   "outputs": [
    {
     "data": {
      "application/vnd.jupyter.widget-view+json": {
       "model_id": "c1ca111f034b4a68859d3fbe64af2852",
       "version_major": 2,
       "version_minor": 0
      },
      "text/plain": [
       "  0%|          | 0/320 [00:00<?, ?it/s]"
      ]
     },
     "metadata": {},
     "output_type": "display_data"
    },
    {
     "data": {
      "application/vnd.jupyter.widget-view+json": {
       "model_id": "ef75d8b91ec845a3b0972dcb6bb91026",
       "version_major": 2,
       "version_minor": 0
      },
      "text/plain": [
       "  0%|          | 0/8 [00:00<?, ?it/s]"
      ]
     },
     "metadata": {},
     "output_type": "display_data"
    },
    {
     "name": "stdout",
     "output_type": "stream",
     "text": [
      "{'eval_loss': 0.635917067527771, 'eval_accuracy': 0.6375, 'eval_precision': 0.5901639344262295, 'eval_recall': 0.9, 'eval_f1': 0.7128712871287128, 'eval_runtime': 1.4561, 'eval_samples_per_second': 54.942, 'eval_steps_per_second': 5.494, 'epoch': 1.0}\n"
     ]
    },
    {
     "data": {
      "application/vnd.jupyter.widget-view+json": {
       "model_id": "fa97cf17a9a34b609e0cc0a391f32074",
       "version_major": 2,
       "version_minor": 0
      },
      "text/plain": [
       "  0%|          | 0/8 [00:00<?, ?it/s]"
      ]
     },
     "metadata": {},
     "output_type": "display_data"
    },
    {
     "name": "stdout",
     "output_type": "stream",
     "text": [
      "{'eval_loss': 0.5801458358764648, 'eval_accuracy': 0.675, 'eval_precision': 0.6206896551724138, 'eval_recall': 0.9, 'eval_f1': 0.7346938775510204, 'eval_runtime': 1.4383, 'eval_samples_per_second': 55.622, 'eval_steps_per_second': 5.562, 'epoch': 2.0}\n"
     ]
    },
    {
     "data": {
      "application/vnd.jupyter.widget-view+json": {
       "model_id": "6a8ae0770f9147b9833540cf24ad8c99",
       "version_major": 2,
       "version_minor": 0
      },
      "text/plain": [
       "  0%|          | 0/8 [00:00<?, ?it/s]"
      ]
     },
     "metadata": {},
     "output_type": "display_data"
    },
    {
     "name": "stdout",
     "output_type": "stream",
     "text": [
      "{'eval_loss': 0.5493167638778687, 'eval_accuracy': 0.7, 'eval_precision': 0.6904761904761905, 'eval_recall': 0.725, 'eval_f1': 0.7073170731707317, 'eval_runtime': 1.4414, 'eval_samples_per_second': 55.501, 'eval_steps_per_second': 5.55, 'epoch': 3.0}\n",
      "{'loss': 0.5202, 'grad_norm': 7.313082695007324, 'learning_rate': 6.875e-06, 'epoch': 3.12}\n"
     ]
    },
    {
     "data": {
      "application/vnd.jupyter.widget-view+json": {
       "model_id": "432978952f3b4992a54ff84220daccdc",
       "version_major": 2,
       "version_minor": 0
      },
      "text/plain": [
       "  0%|          | 0/8 [00:00<?, ?it/s]"
      ]
     },
     "metadata": {},
     "output_type": "display_data"
    },
    {
     "name": "stdout",
     "output_type": "stream",
     "text": [
      "{'eval_loss': 0.5971282720565796, 'eval_accuracy': 0.7, 'eval_precision': 0.7222222222222222, 'eval_recall': 0.65, 'eval_f1': 0.6842105263157895, 'eval_runtime': 1.4412, 'eval_samples_per_second': 55.508, 'eval_steps_per_second': 5.551, 'epoch': 4.0}\n"
     ]
    },
    {
     "data": {
      "application/vnd.jupyter.widget-view+json": {
       "model_id": "bf47bfcd508b4cd8aa392ee71567e7d3",
       "version_major": 2,
       "version_minor": 0
      },
      "text/plain": [
       "  0%|          | 0/8 [00:00<?, ?it/s]"
      ]
     },
     "metadata": {},
     "output_type": "display_data"
    },
    {
     "name": "stdout",
     "output_type": "stream",
     "text": [
      "{'eval_loss': 0.6680358052253723, 'eval_accuracy': 0.7375, 'eval_precision': 0.6727272727272727, 'eval_recall': 0.925, 'eval_f1': 0.7789473684210526, 'eval_runtime': 1.4369, 'eval_samples_per_second': 55.674, 'eval_steps_per_second': 5.567, 'epoch': 5.0}\n"
     ]
    },
    {
     "data": {
      "application/vnd.jupyter.widget-view+json": {
       "model_id": "656103136cd948feb209681489f01bfa",
       "version_major": 2,
       "version_minor": 0
      },
      "text/plain": [
       "  0%|          | 0/8 [00:00<?, ?it/s]"
      ]
     },
     "metadata": {},
     "output_type": "display_data"
    },
    {
     "name": "stdout",
     "output_type": "stream",
     "text": [
      "{'eval_loss': 0.6685742139816284, 'eval_accuracy': 0.7125, 'eval_precision': 0.6976744186046512, 'eval_recall': 0.75, 'eval_f1': 0.7228915662650602, 'eval_runtime': 1.4452, 'eval_samples_per_second': 55.357, 'eval_steps_per_second': 5.536, 'epoch': 6.0}\n",
      "{'loss': 0.1806, 'grad_norm': 7.351877689361572, 'learning_rate': 3.7500000000000005e-06, 'epoch': 6.25}\n"
     ]
    },
    {
     "data": {
      "application/vnd.jupyter.widget-view+json": {
       "model_id": "9ad7282099e5457f8602ec2ddb3e71b5",
       "version_major": 2,
       "version_minor": 0
      },
      "text/plain": [
       "  0%|          | 0/8 [00:00<?, ?it/s]"
      ]
     },
     "metadata": {},
     "output_type": "display_data"
    },
    {
     "name": "stdout",
     "output_type": "stream",
     "text": [
      "{'eval_loss': 0.8015146255493164, 'eval_accuracy': 0.7375, 'eval_precision': 0.7111111111111111, 'eval_recall': 0.8, 'eval_f1': 0.7529411764705882, 'eval_runtime': 1.4414, 'eval_samples_per_second': 55.5, 'eval_steps_per_second': 5.55, 'epoch': 7.0}\n"
     ]
    },
    {
     "data": {
      "application/vnd.jupyter.widget-view+json": {
       "model_id": "9444b948d91a4f268e19c22fbd7be6c0",
       "version_major": 2,
       "version_minor": 0
      },
      "text/plain": [
       "  0%|          | 0/8 [00:00<?, ?it/s]"
      ]
     },
     "metadata": {},
     "output_type": "display_data"
    },
    {
     "name": "stdout",
     "output_type": "stream",
     "text": [
      "{'eval_loss': 0.8933174014091492, 'eval_accuracy': 0.725, 'eval_precision': 0.7045454545454546, 'eval_recall': 0.775, 'eval_f1': 0.7380952380952381, 'eval_runtime': 1.443, 'eval_samples_per_second': 55.438, 'eval_steps_per_second': 5.544, 'epoch': 8.0}\n"
     ]
    },
    {
     "data": {
      "application/vnd.jupyter.widget-view+json": {
       "model_id": "85a41f0857e24fc9a08be8e93b8838f5",
       "version_major": 2,
       "version_minor": 0
      },
      "text/plain": [
       "  0%|          | 0/8 [00:00<?, ?it/s]"
      ]
     },
     "metadata": {},
     "output_type": "display_data"
    },
    {
     "name": "stdout",
     "output_type": "stream",
     "text": [
      "{'eval_loss': 0.9494174122810364, 'eval_accuracy': 0.7, 'eval_precision': 0.6904761904761905, 'eval_recall': 0.725, 'eval_f1': 0.7073170731707317, 'eval_runtime': 1.4448, 'eval_samples_per_second': 55.373, 'eval_steps_per_second': 5.537, 'epoch': 9.0}\n",
      "{'loss': 0.0367, 'grad_norm': 2.857572317123413, 'learning_rate': 6.25e-07, 'epoch': 9.38}\n"
     ]
    },
    {
     "data": {
      "application/vnd.jupyter.widget-view+json": {
       "model_id": "6d1144b54a354721ad978bcc2d01854e",
       "version_major": 2,
       "version_minor": 0
      },
      "text/plain": [
       "  0%|          | 0/8 [00:00<?, ?it/s]"
      ]
     },
     "metadata": {},
     "output_type": "display_data"
    },
    {
     "name": "stdout",
     "output_type": "stream",
     "text": [
      "{'eval_loss': 0.984417736530304, 'eval_accuracy': 0.725, 'eval_precision': 0.725, 'eval_recall': 0.725, 'eval_f1': 0.725, 'eval_runtime': 1.4471, 'eval_samples_per_second': 55.282, 'eval_steps_per_second': 5.528, 'epoch': 10.0}\n",
      "{'train_runtime': 206.8625, 'train_samples_per_second': 15.421, 'train_steps_per_second': 1.547, 'train_loss': 0.23223761469125748, 'epoch': 10.0}\n"
     ]
    },
    {
     "data": {
      "text/plain": [
       "TrainOutput(global_step=320, training_loss=0.23223761469125748, metrics={'train_runtime': 206.8625, 'train_samples_per_second': 15.421, 'train_steps_per_second': 1.547, 'total_flos': 839324266598400.0, 'train_loss': 0.23223761469125748, 'epoch': 10.0})"
      ]
     },
     "execution_count": 17,
     "metadata": {},
     "output_type": "execute_result"
    }
   ],
   "source": [
    "from transformers import Trainer\n",
    "\n",
    "# Define Trainer\n",
    "trainer = Trainer(\n",
    "    model=  model,\n",
    "    args=training_args,\n",
    "    train_dataset=train_dataset,\n",
    "    eval_dataset=test_dataset,\n",
    "    compute_metrics=compute_metrics\n",
    ")\n",
    "\n",
    "\n",
    "# Train the model\n",
    "trainer.train()\n"
   ]
  },
  {
   "cell_type": "code",
   "execution_count": 18,
   "metadata": {},
   "outputs": [
    {
     "data": {
      "application/vnd.jupyter.widget-view+json": {
       "model_id": "262e548cac394ddb8b4884d70d990699",
       "version_major": 2,
       "version_minor": 0
      },
      "text/plain": [
       "  0%|          | 0/8 [00:00<?, ?it/s]"
      ]
     },
     "metadata": {},
     "output_type": "display_data"
    },
    {
     "name": "stdout",
     "output_type": "stream",
     "text": [
      "{'eval_loss': 0.6680358052253723, 'eval_accuracy': 0.7375, 'eval_precision': 0.6727272727272727, 'eval_recall': 0.925, 'eval_f1': 0.7789473684210526, 'eval_runtime': 1.4408, 'eval_samples_per_second': 55.523, 'eval_steps_per_second': 5.552, 'epoch': 10.0}\n"
     ]
    }
   ],
   "source": [
    "results = trainer.evaluate(eval_dataset=test_dataset)\n",
    "print(results)\n",
    "\n"
   ]
  },
  {
   "cell_type": "code",
   "execution_count": 19,
   "metadata": {},
   "outputs": [],
   "source": [
    "from sklearn.metrics import precision_score, recall_score, f1_score, accuracy_score\n",
    "\n",
    "def compute_metrics(pred):\n",
    "    logits, labels = pred\n",
    "    # Convert logits to probabilities\n",
    "    probabilities = torch.softmax(torch.tensor(logits), dim=-1)[:, 1]\n",
    "    # Apply custom threshold\n",
    "    threshold = 0.7  # Adjust this value to tune precision\n",
    "    predictions = (probabilities > threshold).int().numpy()\n",
    "    # Calculate metrics\n",
    "    precision = precision_score(labels, predictions)\n",
    "    recall = recall_score(labels, predictions)\n",
    "    f1 = f1_score(labels, predictions)\n",
    "    accuracy = accuracy_score(labels, predictions)\n",
    "    return {\n",
    "        \"precision\": precision,\n",
    "        \"recall\": recall,\n",
    "        \"f1\": f1,\n",
    "        \"accuracy\": accuracy,\n",
    "    }\n"
   ]
  },
  {
   "cell_type": "code",
   "execution_count": 20,
   "metadata": {},
   "outputs": [
    {
     "data": {
      "application/vnd.jupyter.widget-view+json": {
       "model_id": "b3a9986ac6be4b0abfb358702e56dc75",
       "version_major": 2,
       "version_minor": 0
      },
      "text/plain": [
       "  0%|          | 0/8 [00:00<?, ?it/s]"
      ]
     },
     "metadata": {},
     "output_type": "display_data"
    },
    {
     "data": {
      "image/png": "[encoded data removed]",
      "text/plain": [
       "<Figure size 1000x600 with 1 Axes>"
      ]
     },
     "metadata": {},
     "output_type": "display_data"
    }
   ],
   "source": [
    "import matplotlib.pyplot as plt\n",
    "import numpy as np\n",
    "from sklearn.metrics import precision_score, recall_score, f1_score\n",
    "\n",
    "# Function to evaluate metrics across thresholds\n",
    "def evaluate_with_thresholds(predictions_output, thresholds):\n",
    "    logits = predictions_output.predictions  # Extract logits\n",
    "    labels = predictions_output.label_ids  # Extract true labels\n",
    "    probabilities = torch.softmax(torch.tensor(logits), dim=-1)[:, 1].numpy()  # Convert logits to probabilities\n",
    "    precisions, recalls, f1_scores = [], [], []\n",
    "    for threshold in thresholds:\n",
    "        preds = (probabilities > threshold).astype(int)\n",
    "        precisions.append(precision_score(labels, preds))\n",
    "        recalls.append(recall_score(labels, preds))\n",
    "        f1_scores.append(f1_score(labels, preds))\n",
    "    return precisions, recalls, f1_scores\n",
    "\n",
    "# Generate thresholds to test\n",
    "thresholds = np.linspace(0.1, 0.9, 50)\n",
    "\n",
    "# Perform predictions\n",
    "predictions_output = trainer.predict(test_dataset)\n",
    "\n",
    "# Evaluate metrics across thresholds\n",
    "precisions, recalls, f1_scores = evaluate_with_thresholds(predictions_output, thresholds)\n",
    "\n",
    "# Plot Precision, Recall, and F1 Score vs. Threshold\n",
    "plt.figure(figsize=(10, 6))\n",
    "plt.plot(thresholds, precisions, label=\"Precision\", marker=\"o\")\n",
    "plt.plot(thresholds, recalls, label=\"Recall\", marker=\"o\")\n",
    "plt.plot(thresholds, f1_scores, label=\"F1 Score\", marker=\"o\")\n",
    "plt.xlabel(\"Threshold\")\n",
    "plt.ylabel(\"Score\")\n",
    "plt.title(\"Precision, Recall, and F1 Score vs. Threshold\")\n",
    "plt.legend()\n",
    "plt.grid(True)\n",
    "plt.show()\n"
   ]
  }
 ],
 "metadata": {
  "kernelspec": {
   "display_name": "Python 3",
   "language": "python",
   "name": "python3"
  },
  "language_info": {
   "codemirror_mode": {
    "name": "ipython",
    "version": 3
   },
   "file_extension": ".py",
   "mimetype": "text/x-python",
   "name": "python",
   "nbconvert_exporter": "python",
   "pygments_lexer": "ipython3",
   "version": "3.11.1"
  }
 },
 "nbformat": 4,
 "nbformat_minor": 2
}
